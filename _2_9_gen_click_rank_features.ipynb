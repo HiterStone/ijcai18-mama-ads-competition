{
 "cells": [
  {
   "cell_type": "code",
   "execution_count": 1,
   "metadata": {
    "ExecuteTime": {
     "end_time": "2018-04-21T13:03:13.594036Z",
     "start_time": "2018-04-21T13:03:12.568802Z"
    }
   },
   "outputs": [],
   "source": [
    "import os\n",
    "import pickle\n",
    "import gc\n",
    "import pandas as pd\n",
    "import numpy as np\n",
    "from tqdm import tqdm\n",
    "from utils import (load_pickle, dump_pickle, get_nominal_dfal, feats_root,\n",
    "                   mem_usage, reduce_mem_usage, nominal_cate_cols,\n",
    "                   ordinal_cate_cols, identity_cols, continual_cols, top, freq,\n",
    "                   unique, vrange, percentile)\n",
    "\n",
    "pd.set_option('display.max_columns', 1000)"
   ]
  },
  {
   "cell_type": "code",
   "execution_count": 2,
   "metadata": {
    "ExecuteTime": {
     "end_time": "2018-04-21T13:03:21.835954Z",
     "start_time": "2018-04-21T13:03:21.783916Z"
    }
   },
   "outputs": [],
   "source": [
    "dfal = get_nominal_dfal()"
   ]
  },
  {
   "cell_type": "code",
   "execution_count": 3,
   "metadata": {
    "ExecuteTime": {
     "end_time": "2018-04-21T13:03:38.319719Z",
     "start_time": "2018-04-21T13:03:38.252686Z"
    }
   },
   "outputs": [],
   "source": [
    "dfal = dfal.loc[dfal.da < 24, :]"
   ]
  },
  {
   "cell_type": "code",
   "execution_count": 4,
   "metadata": {
    "ExecuteTime": {
     "end_time": "2018-04-21T13:05:47.518461Z",
     "start_time": "2018-04-21T13:05:47.512490Z"
    }
   },
   "outputs": [
    {
     "data": {
      "text/plain": [
       "array(['context_page_id', 'instance_id', 'is_trade', 'item_brand_id',\n",
       "       'item_category_list', 'item_city_id', 'item_collected_level',\n",
       "       'item_id', 'item_price_level', 'item_pv_level', 'item_sales_level',\n",
       "       'shop_id', 'shop_review_num_level', 'shop_review_positive_rate',\n",
       "       'shop_score_delivery', 'shop_score_description',\n",
       "       'shop_score_service', 'shop_star_level', 'user_age_level',\n",
       "       'user_gender_id', 'user_id', 'user_occupation_id',\n",
       "       'user_star_level', 'dt', 'da', 'ho', 'hm', 'mi'], dtype=object)"
      ]
     },
     "execution_count": 4,
     "metadata": {},
     "output_type": "execute_result"
    }
   ],
   "source": [
    "dfal.columns.values"
   ]
  },
  {
   "cell_type": "code",
   "execution_count": null,
   "metadata": {},
   "outputs": [],
   "source": []
  }
 ],
 "metadata": {
  "kernelspec": {
   "display_name": "stats36",
   "language": "python",
   "name": "stats36"
  },
  "language_info": {
   "codemirror_mode": {
    "name": "ipython",
    "version": 3
   },
   "file_extension": ".py",
   "mimetype": "text/x-python",
   "name": "python",
   "nbconvert_exporter": "python",
   "pygments_lexer": "ipython3",
   "version": "3.6.4"
  }
 },
 "nbformat": 4,
 "nbformat_minor": 2
}
