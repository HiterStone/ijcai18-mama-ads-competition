{
 "cells": [
  {
   "cell_type": "code",
   "execution_count": 1,
   "metadata": {
    "ExecuteTime": {
     "end_time": "2018-04-20T09:40:28.751039Z",
     "start_time": "2018-04-20T09:40:27.786860Z"
    }
   },
   "outputs": [],
   "source": [
    "import os\n",
    "import pickle\n",
    "import gc\n",
    "import pandas as pd\n",
    "import numpy as np\n",
    "from tqdm import tqdm\n",
    "from utils import load_pickle,dump_pickle, get_nominal_dfal, feats_root"
   ]
  },
  {
   "cell_type": "code",
   "execution_count": 2,
   "metadata": {
    "ExecuteTime": {
     "end_time": "2018-04-20T09:40:28.766953Z",
     "start_time": "2018-04-20T09:40:28.753564Z"
    }
   },
   "outputs": [],
   "source": [
    "def gen_user_total_da_click(update=False):\n",
    "    dfal = get_nominal_dfal()\n",
    "    feat_path = os.path.join(feats_root, 'user_total_click_da.pkl')\n",
    "    if os.path.exists(feat_path) and update == False:\n",
    "        print('Found ' + feat_path)\n",
    "    else:\n",
    "        print('Generating ' + feat_path)\n",
    "        user_all_click_da = dfal.groupby(['user_id', 'da'])\\\n",
    "                                 .size().reset_index()\\\n",
    "                                 .rename(columns={0: 'agg_user_total_click_da'})\n",
    "        dump_pickle(user_all_click_da, feat_path)\n",
    "        \n",
    "    print('gen_user_total_da_click completed.')"
   ]
  },
  {
   "cell_type": "code",
   "execution_count": 3,
   "metadata": {
    "ExecuteTime": {
     "end_time": "2018-04-20T09:40:28.796526Z",
     "start_time": "2018-04-20T09:40:28.770789Z"
    }
   },
   "outputs": [],
   "source": [
    "def gen_user_da_feature_click(updata=False):\n",
    "    \"\"\"生成用户相关所有数据的每天点击统计量\"\"\"\n",
    "    dfal = get_nominal_dfal()\n",
    "    stats_feat = [\n",
    "        'item_id', 'shop_id', 'item_category_list', 'item_brand_id',\n",
    "        'item_city_id', 'item_price_level', 'item_sales_level',\n",
    "        'item_collected_level', 'item_pv_level', 'context_page_id',\n",
    "        'shop_review_num_level', 'shop_star_level'\n",
    "    ]\n",
    "    tbar = tqdm(stats_feat)\n",
    "    for feat in tbar:\n",
    "        feat_path = os.path.join(feats_root, 'user_' + feat + '_click_da.pkl')\n",
    "        if os.path.exists(feat_path) and updata == False:\n",
    "            tbar.set_description('Found {:>60}'.format(os.path.basename(feat_path)))\n",
    "        else:\n",
    "            tbar.set_description('Generating {:>60}'.format(os.path.basename(feat_path)))\n",
    "            user_feat_click_da = dfal.groupby(['user_id', 'da', feat])\\\n",
    "                                     .size().reset_index()\\\n",
    "                                     .rename(columns={0: 'agg_user_%s_click_da' % feat})\n",
    "            dump_pickle(user_feat_click_da, feat_path)\n",
    "            \n",
    "    print('gen_user_da_feature_click completed.')"
   ]
  },
  {
   "cell_type": "code",
   "execution_count": 4,
   "metadata": {
    "ExecuteTime": {
     "end_time": "2018-04-20T09:40:28.822143Z",
     "start_time": "2018-04-20T09:40:28.799022Z"
    }
   },
   "outputs": [],
   "source": [
    "def gen_user_ho_feature_click(updata=False):\n",
    "    \"\"\"生成用户相关所有数据的每天每小时点击统计量\"\"\"\n",
    "    dfal = get_nominal_dfal()\n",
    "    stats_feat = [\n",
    "        'item_id', 'shop_id', 'item_category_list', 'item_brand_id',\n",
    "        'item_city_id', 'item_price_level', 'item_sales_level',\n",
    "        'item_collected_level', 'item_pv_level', 'context_page_id',\n",
    "        'shop_review_num_level', 'shop_star_level'\n",
    "    ]\n",
    "    tbar = tqdm(stats_feat)\n",
    "    for feat in tbar:\n",
    "        feat_path = os.path.join(feats_root, 'user_' + feat + '_click_ho.pkl')\n",
    "        if os.path.exists(feat_path) and updata == False:\n",
    "            tbar.set_description('Found {:>60}'.format(os.path.basename(feat_path)))\n",
    "        else:\n",
    "            tbar.set_description('Generating {:>60}'.format(os.path.basename(feat_path)))\n",
    "            user_feat_click_ho = dfal.groupby(['user_id', 'da', 'ho', feat])\\\n",
    "                                     .size().reset_index()\\\n",
    "                                     .rename(columns={0: 'agg_user_%s_click_ho' % feat})\n",
    "            dump_pickle(user_feat_click_ho, feat_path)\n",
    "    print('gen_user_ho_feature_click completed.')"
   ]
  },
  {
   "cell_type": "code",
   "execution_count": null,
   "metadata": {},
   "outputs": [],
   "source": [
    "def gen_user_hm_feature_click(updata=False):\n",
    "    \"\"\"生成用户相关所有数据的每天每小时点击统计量\"\"\"\n",
    "    dfal = get_nominal_dfal()\n",
    "    stats_feat = [\n",
    "        'item_id', 'shop_id', 'item_category_list', 'item_brand_id',\n",
    "        'item_city_id', 'item_price_level', 'item_sales_level',\n",
    "        'item_collected_level', 'item_pv_level', 'context_page_id',\n",
    "        'shop_review_num_level', 'shop_star_level'\n",
    "    ]\n",
    "    tbar = tqdm(stats_feat)\n",
    "    for feat in tbar:\n",
    "        feat_path = os.path.join(feats_root, 'user_' + feat + '_click_hm.pkl')\n",
    "        if os.path.exists(feat_path) and updata == False:\n",
    "            tbar.set_description('Found {:>60}'.format(os.path.basename(feat_path)))\n",
    "        else:\n",
    "            tbar.set_description('Generating {:>60}'.format(os.path.basename(feat_path)))\n",
    "            user_feat_click_hm = dfal.groupby(['user_id', 'da', 'hm', feat])\\\n",
    "                                     .size().reset_index()\\\n",
    "                                     .rename(columns={0: 'agg_user_%s_click_hm' % feat})\n",
    "            dump_pickle(user_feat_click_hm, feat_path)\n",
    "    print('gen_user_hm_feature_click completed.')"
   ]
  },
  {
   "cell_type": "code",
   "execution_count": 5,
   "metadata": {
    "ExecuteTime": {
     "end_time": "2018-04-20T09:40:28.837485Z",
     "start_time": "2018-04-20T09:40:28.825695Z"
    }
   },
   "outputs": [],
   "source": [
    "def add_user_total_da_click(data):\n",
    "    \"\"\"\n",
    "    添加用户当天的点击总数\n",
    "    拼接键['user_id', 'da']\n",
    "    \"\"\"\n",
    "    feat_path = feats_root + 'user_total_click_da.pkl'\n",
    "    if not os.path.exists(feat_path):\n",
    "        gen_user_total_da_click()\n",
    "    user_total_click_da = load_pickle(feat_path)\n",
    "    data = pd.merge(data, user_total_click_da, 'left', ['da','user_id'])\n",
    "    print('add_user_total_da_click completed.')\n",
    "    return data"
   ]
  },
  {
   "cell_type": "code",
   "execution_count": 6,
   "metadata": {
    "ExecuteTime": {
     "end_time": "2018-04-20T09:40:28.860510Z",
     "start_time": "2018-04-20T09:40:28.840149Z"
    }
   },
   "outputs": [],
   "source": [
    "def add_user_da_feature_click(data):\n",
    "    stats_feat = [\n",
    "        'item_id', 'shop_id', 'item_category_list', 'item_brand_id',\n",
    "        'item_city_id', 'item_price_level', 'item_sales_level',\n",
    "        'item_collected_level', 'item_pv_level', 'context_page_id',\n",
    "        'shop_review_num_level', 'shop_star_level'\n",
    "    ]\n",
    "    \n",
    "    tbar = tqdm(stats_feat)\n",
    "    for feat in tbar:\n",
    "        feat_path = os.path.join(feats_root, 'user_' + feat + '_click_da.pkl')\n",
    "        feat_da_click = load_pickle(feat_path)\n",
    "        tbar.set_description('adding ' + os.path.basename(feat_path))\n",
    "        data = pd.merge(data, feat_da_click, 'left', [feat, 'da', 'user_id'])\n",
    "    print('add_user_da_feature_click completed.')\n",
    "    return data"
   ]
  },
  {
   "cell_type": "code",
   "execution_count": 7,
   "metadata": {
    "ExecuteTime": {
     "end_time": "2018-04-20T09:40:28.883602Z",
     "start_time": "2018-04-20T09:40:28.864861Z"
    }
   },
   "outputs": [],
   "source": [
    "def add_user_ho_feature_click(data):\n",
    "    stats_feat = [\n",
    "        'item_id', 'shop_id', 'item_category_list', 'item_brand_id',\n",
    "        'item_city_id', 'item_price_level', 'item_sales_level',\n",
    "        'item_collected_level', 'item_pv_level', 'context_page_id',\n",
    "        'shop_review_num_level', 'shop_star_level'\n",
    "    ]\n",
    "    \n",
    "    tbar = tqdm(stats_feat)\n",
    "    for feat in tbar:\n",
    "        feat_path = os.path.join(feats_root, 'user_' + feat + '_click_ho.pkl')\n",
    "        feat_da_click = load_pickle(feat_path)\n",
    "        tbar.set_description('adding ' + os.path.basename(feat_path))\n",
    "        data = pd.merge(data, feat_da_click, 'left', [feat, 'ho', 'da', 'user_id'])\n",
    "    print('add_user_ho_feature_click completed.') \n",
    "    return data"
   ]
  },
  {
   "cell_type": "code",
   "execution_count": 8,
   "metadata": {
    "ExecuteTime": {
     "end_time": "2018-04-20T09:40:28.917757Z",
     "start_time": "2018-04-20T09:40:28.886529Z"
    }
   },
   "outputs": [],
   "source": [
    "def gen_user_click_stats(data, col):\n",
    "    clicks_user = pd.DataFrame(data.groupby(['user_id', col])['dt'].count(), )\n",
    "    clicks_user.rename(columns={'dt': col+'_m'}, inplace=True)\n",
    "    clicks_user.reset_index(inplace=True)\n",
    "    clicks_user_avg = pd.DataFrame(clicks_user.groupby(['user_id'])[col+'_m'].mean()).rename(columns={col+'_m': col+'_avg'}).reset_index()\n",
    "    clicks_user_max = pd.DataFrame(clicks_user.groupby(['user_id'])[col+'_m'].max()).rename(columns={col+'_m': col+'_max'}).reset_index()\n",
    "    clicks_user_min = pd.DataFrame(clicks_user.groupby(['user_id'])[col+'_m'].min()).rename(columns={col+'_m': col+'_min'}).reset_index()\n",
    "    data = pd.merge(data, clicks_user_avg, how='left', on='user_id')\n",
    "    data = pd.merge(data, clicks_user_max, how='left', on='user_id')\n",
    "    data = pd.merge(data, clicks_user_min, how='left', on='user_id')\n",
    "    print('add_user_click_stats {} completed.'.format(col))\n",
    "    return data"
   ]
  },
  {
   "cell_type": "code",
   "execution_count": 9,
   "metadata": {
    "ExecuteTime": {
     "end_time": "2018-04-20T09:40:28.932886Z",
     "start_time": "2018-04-20T09:40:28.921897Z"
    }
   },
   "outputs": [],
   "source": [
    "def add_user_click_stats(data):\n",
    "    feat_path = os.path.join(feats_root, 'user_click_stats.pkl')\n",
    "    if not os.path.exists(feat_path):\n",
    "        gen_user_stats_feature()\n",
    "    user_click_stats = load_pickle(feat_path)\n",
    "    data = pd.merge(data, user_click_stats, how='left', on='user_id')\n",
    "    print('add_user_click_stats completed.')\n",
    "    return data"
   ]
  },
  {
   "cell_type": "code",
   "execution_count": 10,
   "metadata": {
    "ExecuteTime": {
     "end_time": "2018-04-20T09:40:28.987892Z",
     "start_time": "2018-04-20T09:40:28.937547Z"
    }
   },
   "outputs": [],
   "source": [
    "def gen_user_stats_feature(updata=False):\n",
    "    feat_path = os.path.join(feats_root, 'user_click_stats.pkl')\n",
    "    if os.path.exists(feat_path) and updata == False:\n",
    "        print('Found ' + feat_path)\n",
    "    else:\n",
    "        dfal = get_nominal_dfal()\n",
    "        dfal = add_user_total_da_click(dfal)\n",
    "        dfal = add_user_da_feature_click(dfal)\n",
    "        print('generating ' + feat_path)\n",
    "        columns_da = list(filter(lambda x: x.endswith('_click_da'), dfal.columns.values))\n",
    "        columns_ho = list(filter(lambda x: x.endswith('_click_ho'), dfal.columns.values))\n",
    "\n",
    "        tbar = tqdm(columns_da)\n",
    "        for col in tbar:\n",
    "            tbar.set_description('add_user_click_stats ' + col)\n",
    "            dfal = gen_user_click_stats(dfal, col)\n",
    "        print('add_user_click_stats completed.')\n",
    "        \n",
    "        feat_names = list(filter(lambda x: '_click_da_' in x, dfal.columns.values))\n",
    "        dfal = dfal[feat_names + ['user_id']].drop_duplicates(['user_id'])\n",
    "        print('gen_user_stats_feature shape:', dfal.shape)\n",
    "        dump_pickle(dfal, feat_path)\n",
    "    print('gen_user_stats_feature completed.')"
   ]
  },
  {
   "cell_type": "code",
   "execution_count": 11,
   "metadata": {
    "ExecuteTime": {
     "end_time": "2018-04-20T09:40:29.216665Z",
     "start_time": "2018-04-20T09:40:28.990833Z"
    },
    "scrolled": false
   },
   "outputs": [
    {
     "name": "stderr",
     "output_type": "stream",
     "text": [
      "Found                            user_shop_star_level_click_da.pkl: 100%|██████████| 12/12 [00:00<00:00, 426.96it/s]\n",
      "Found                            user_shop_star_level_click_ho.pkl: 100%|██████████| 12/12 [00:00<00:00, 371.63it/s]"
     ]
    },
    {
     "name": "stdout",
     "output_type": "stream",
     "text": [
      "Found ./feats/user_total_click_da.pkl\n",
      "gen_user_total_da_click completed.\n",
      "gen_user_da_feature_click completed.\n",
      "gen_user_ho_feature_click completed.\n",
      "Found ./feats/user_click_stats.pkl\n",
      "gen_user_stats_feature completed.\n"
     ]
    },
    {
     "name": "stderr",
     "output_type": "stream",
     "text": [
      "\n"
     ]
    }
   ],
   "source": [
    "if __name__ == '__main__':\n",
    "    gen_user_total_da_click(False)\n",
    "    gen_user_da_feature_click(False)\n",
    "    gen_user_ho_feature_click(False)\n",
    "    gen_user_stats_feature(False)"
   ]
  }
 ],
 "metadata": {
  "kernelspec": {
   "display_name": "stats36",
   "language": "python",
   "name": "stats36"
  },
  "language_info": {
   "codemirror_mode": {
    "name": "ipython",
    "version": 3
   },
   "file_extension": ".py",
   "mimetype": "text/x-python",
   "name": "python",
   "nbconvert_exporter": "python",
   "pygments_lexer": "ipython3",
   "version": "3.6.4"
  }
 },
 "nbformat": 4,
 "nbformat_minor": 2
}
